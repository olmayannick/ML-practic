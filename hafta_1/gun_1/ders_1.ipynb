{
 "cells": [
  {
   "cell_type": "markdown",
   "metadata": {},
   "source": [
    "## temeller ##"
   ]
  },
  {
   "cell_type": "code",
   "execution_count": null,
   "metadata": {},
   "outputs": [],
   "source": [
    "print(\"hello word\")\n"
   ]
  },
  {
   "cell_type": "code",
   "execution_count": null,
   "metadata": {},
   "outputs": [],
   "source": [
    "print(\"bişi yazıyom\"+\"aaeeed\")"
   ]
  },
  {
   "cell_type": "code",
   "execution_count": null,
   "metadata": {},
   "outputs": [],
   "source": [
    "print(89*465)  \n",
    "89+56\n",
    "45-9 #zaten sonuncu olanı yazdırır"
   ]
  },
  {
   "cell_type": "code",
   "execution_count": null,
   "metadata": {},
   "outputs": [],
   "source": [
    "print(7*\":)\\n\")\n",
    "print(11*\":)\\t\")"
   ]
  },
  {
   "cell_type": "code",
   "execution_count": null,
   "metadata": {},
   "outputs": [],
   "source": [
    "print(\"a\",\"b\",\"c\", sep=\"- -\")"
   ]
  },
  {
   "cell_type": "code",
   "execution_count": null,
   "metadata": {},
   "outputs": [],
   "source": [
    "print(5+5)\n",
    "print(5-5)\n",
    "print(5*5)\n",
    "print(5/5)\n",
    "print(5//5)\n",
    "print(5%5)\n",
    "print(5**5)\n",
    "print(5**0.5)\n",
    "type(5j-1)"
   ]
  },
  {
   "cell_type": "code",
   "execution_count": null,
   "metadata": {},
   "outputs": [],
   "source": [
    "ehliyet = False\n",
    "ceza = True\n",
    "print(ehliyet or ceza)"
   ]
  },
  {
   "cell_type": "code",
   "execution_count": null,
   "metadata": {},
   "outputs": [],
   "source": [
    "ehliyet = True\n",
    "uni = True\n",
    "kidem = 2\n",
    "\n",
    "\n",
    "if ehliyet and uni and kidem>=5:\n",
    "    print(\"ileri sayfa\")\n",
    "else:\n",
    "    print(\"olmaz\")"
   ]
  },
  {
   "cell_type": "code",
   "execution_count": null,
   "metadata": {},
   "outputs": [],
   "source": [
    "vize =input(\"vize notunuzu giriniz: \")\n",
    "final =input(\"final notunuzu giriniz: \")\n",
    "vize = int(vize)\n",
    "final = int(final)\n",
    "ortalama = (vize*0.4)+(final*0.6)\n",
    "\n",
    "if ortalama>=50:\n",
    "    print(\"geçtiniz\")\n",
    "else:  \n",
    "    print(\"kaldınız\")\n",
    "    \n",
    "print(ortalama)"
   ]
  },
  {
   "cell_type": "markdown",
   "metadata": {},
   "source": [
    "karkater dixileri"
   ]
  },
  {
   "cell_type": "code",
   "execution_count": null,
   "metadata": {},
   "outputs": [],
   "source": [
    "metin = \"ben bir metinim\"\n",
    "print(metin[4])"
   ]
  },
  {
   "cell_type": "code",
   "execution_count": null,
   "metadata": {},
   "outputs": [],
   "source": [
    "metin[7:-1]"
   ]
  },
  {
   "cell_type": "code",
   "execution_count": 64,
   "metadata": {},
   "outputs": [
    {
     "name": "stdout",
     "output_type": "stream",
     "text": [
      "ah*** me****\n"
     ]
    }
   ],
   "source": [
    "ad= input(\"ad soyad ver bakim\")\n",
    "print(ad[0:2]+\"***\",ad[-3:-1]+\"****\")"
   ]
  },
  {
   "cell_type": "code",
   "execution_count": 66,
   "metadata": {},
   "outputs": [
    {
     "name": "stdout",
     "output_type": "stream",
     "text": [
      "a**** m*****\n"
     ]
    }
   ],
   "source": [
    "#gpt yaptı\n",
    "# Kullanıcının tam adını al\n",
    "tam_ad = input(\"Lütfen tam adınızı giriniz (isim ve soyisim): \")\n",
    "\n",
    "# İsim ve soyisim arasındaki boşluğu bul\n",
    "bosluk_index = tam_ad.find(\" \")\n",
    "\n",
    "# İsim ve soyismin ilk harflerini al\n",
    "isim_ilk_harf = tam_ad[0]\n",
    "soyisim_ilk_harf = tam_ad[bosluk_index + 1]\n",
    "\n",
    "# İsim ve soyisim için yıldızları hazırla\n",
    "isim_gizli = isim_ilk_harf + \"*\" * (bosluk_index - 1)\n",
    "soyisim_gizli = soyisim_ilk_harf + \"*\" * (len(tam_ad) - bosluk_index - 2)\n",
    "\n",
    "# Sonucu yazdır\n",
    "print(f\"{isim_gizli} {soyisim_gizli}\")\n"
   ]
  },
  {
   "cell_type": "code",
   "execution_count": 2,
   "metadata": {},
   "outputs": [
    {
     "name": "stdout",
     "output_type": "stream",
     "text": [
      "a**** b*****\n"
     ]
    }
   ],
   "source": [
    "#isim alma hoca versiyon copilot kendi yaptı hoca değil\n",
    "ad_soyad = input(\"Adınızı ve soyadınızı giriniz: \")\n",
    "ad_soyad = ad_soyad.split()\n",
    "ad = ad_soyad[0]\n",
    "soyad = ad_soyad[1]\n",
    "print(ad[0] + \"*\" * (len(ad) - 1), soyad[0] + \"*\" * (len(soyad) - 1))\n"
   ]
  },
  {
   "cell_type": "code",
   "execution_count": 4,
   "metadata": {},
   "outputs": [
    {
     "data": {
      "text/plain": [
       "'a**** a**'"
      ]
     },
     "execution_count": 4,
     "metadata": {},
     "output_type": "execute_result"
    }
   ],
   "source": [
    "def isim_gizlemek(ad_soyad):\n",
    "    ad_soyad_list = ad_soyad.split()\n",
    "    isim_gizlemek = ad_soyad_list[0][0] + \"*\" * (len(ad_soyad_list[0]) - 1) + \" \" + ad_soyad_list[1][0] + \"*\" * (len(ad_soyad_list[1]) - 1)\n",
    "    return isim_gizlemek\n",
    "isim_gizlemek(\"ahmet  mehmet\")"
   ]
  }
 ],
 "metadata": {
  "kernelspec": {
   "display_name": "Python 3",
   "language": "python",
   "name": "python3"
  },
  "language_info": {
   "codemirror_mode": {
    "name": "ipython",
    "version": 3
   },
   "file_extension": ".py",
   "mimetype": "text/x-python",
   "name": "python",
   "nbconvert_exporter": "python",
   "pygments_lexer": "ipython3",
   "version": "3.10.6"
  }
 },
 "nbformat": 4,
 "nbformat_minor": 2
}

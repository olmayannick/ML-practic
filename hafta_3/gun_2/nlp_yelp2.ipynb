{
 "cells": [
  {
   "cell_type": "markdown",
   "id": "a5999e1a",
   "metadata": {},
   "source": [
    "# NLP YELP 2"
   ]
  },
  {
   "cell_type": "markdown",
   "id": "5cd77d69",
   "metadata": {},
   "source": [
    "### Import Libraries"
   ]
  },
  {
   "cell_type": "code",
   "execution_count": 1,
   "id": "80b80a1e",
   "metadata": {},
   "outputs": [],
   "source": [
    "import pandas as pd"
   ]
  },
  {
   "cell_type": "code",
   "execution_count": 2,
   "id": "a45ec28d",
   "metadata": {},
   "outputs": [],
   "source": [
    "from sklearn.feature_extraction.text import CountVectorizer,TfidfVectorizer"
   ]
  },
  {
   "cell_type": "code",
   "execution_count": 3,
   "id": "9ff8838f",
   "metadata": {},
   "outputs": [],
   "source": [
    "from sklearn.model_selection import train_test_split\n",
    "from sklearn.tree import DecisionTreeClassifier"
   ]
  },
  {
   "cell_type": "markdown",
   "id": "8b4188b8",
   "metadata": {},
   "source": [
    "### Veri yükle"
   ]
  },
  {
   "cell_type": "code",
   "execution_count": 4,
   "id": "3fa2a5db",
   "metadata": {},
   "outputs": [],
   "source": [
    "df=pd.read_csv('yelp.csv')"
   ]
  },
  {
   "cell_type": "code",
   "execution_count": 5,
   "id": "e71462b4",
   "metadata": {},
   "outputs": [
    {
     "data": {
      "text/html": [
       "<div>\n",
       "<style scoped>\n",
       "    .dataframe tbody tr th:only-of-type {\n",
       "        vertical-align: middle;\n",
       "    }\n",
       "\n",
       "    .dataframe tbody tr th {\n",
       "        vertical-align: top;\n",
       "    }\n",
       "\n",
       "    .dataframe thead th {\n",
       "        text-align: right;\n",
       "    }\n",
       "</style>\n",
       "<table border=\"1\" class=\"dataframe\">\n",
       "  <thead>\n",
       "    <tr style=\"text-align: right;\">\n",
       "      <th></th>\n",
       "      <th>business_id</th>\n",
       "      <th>date</th>\n",
       "      <th>review_id</th>\n",
       "      <th>stars</th>\n",
       "      <th>text</th>\n",
       "      <th>type</th>\n",
       "      <th>user_id</th>\n",
       "      <th>cool</th>\n",
       "      <th>useful</th>\n",
       "      <th>funny</th>\n",
       "    </tr>\n",
       "  </thead>\n",
       "  <tbody>\n",
       "    <tr>\n",
       "      <th>0</th>\n",
       "      <td>9yKzy9PApeiPPOUJEtnvkg</td>\n",
       "      <td>2011-01-26</td>\n",
       "      <td>fWKvX83p0-ka4JS3dc6E5A</td>\n",
       "      <td>5</td>\n",
       "      <td>My wife took me here on my birthday for breakf...</td>\n",
       "      <td>review</td>\n",
       "      <td>rLtl8ZkDX5vH5nAx9C3q5Q</td>\n",
       "      <td>2</td>\n",
       "      <td>5</td>\n",
       "      <td>0</td>\n",
       "    </tr>\n",
       "    <tr>\n",
       "      <th>1</th>\n",
       "      <td>ZRJwVLyzEJq1VAihDhYiow</td>\n",
       "      <td>2011-07-27</td>\n",
       "      <td>IjZ33sJrzXqU-0X6U8NwyA</td>\n",
       "      <td>5</td>\n",
       "      <td>I have no idea why some people give bad review...</td>\n",
       "      <td>review</td>\n",
       "      <td>0a2KyEL0d3Yb1V6aivbIuQ</td>\n",
       "      <td>0</td>\n",
       "      <td>0</td>\n",
       "      <td>0</td>\n",
       "    </tr>\n",
       "    <tr>\n",
       "      <th>2</th>\n",
       "      <td>6oRAC4uyJCsJl1X0WZpVSA</td>\n",
       "      <td>2012-06-14</td>\n",
       "      <td>IESLBzqUCLdSzSqm0eCSxQ</td>\n",
       "      <td>4</td>\n",
       "      <td>love the gyro plate. Rice is so good and I als...</td>\n",
       "      <td>review</td>\n",
       "      <td>0hT2KtfLiobPvh6cDC8JQg</td>\n",
       "      <td>0</td>\n",
       "      <td>1</td>\n",
       "      <td>0</td>\n",
       "    </tr>\n",
       "    <tr>\n",
       "      <th>3</th>\n",
       "      <td>_1QQZuf4zZOyFCvXc0o6Vg</td>\n",
       "      <td>2010-05-27</td>\n",
       "      <td>G-WvGaISbqqaMHlNnByodA</td>\n",
       "      <td>5</td>\n",
       "      <td>Rosie, Dakota, and I LOVE Chaparral Dog Park!!...</td>\n",
       "      <td>review</td>\n",
       "      <td>uZetl9T0NcROGOyFfughhg</td>\n",
       "      <td>1</td>\n",
       "      <td>2</td>\n",
       "      <td>0</td>\n",
       "    </tr>\n",
       "    <tr>\n",
       "      <th>4</th>\n",
       "      <td>6ozycU1RpktNG2-1BroVtw</td>\n",
       "      <td>2012-01-05</td>\n",
       "      <td>1uJFq2r5QfJG_6ExMRCaGw</td>\n",
       "      <td>5</td>\n",
       "      <td>General Manager Scott Petello is a good egg!!!...</td>\n",
       "      <td>review</td>\n",
       "      <td>vYmM4KTsC8ZfQBg-j5MWkw</td>\n",
       "      <td>0</td>\n",
       "      <td>0</td>\n",
       "      <td>0</td>\n",
       "    </tr>\n",
       "  </tbody>\n",
       "</table>\n",
       "</div>"
      ],
      "text/plain": [
       "              business_id        date               review_id  stars  \\\n",
       "0  9yKzy9PApeiPPOUJEtnvkg  2011-01-26  fWKvX83p0-ka4JS3dc6E5A      5   \n",
       "1  ZRJwVLyzEJq1VAihDhYiow  2011-07-27  IjZ33sJrzXqU-0X6U8NwyA      5   \n",
       "2  6oRAC4uyJCsJl1X0WZpVSA  2012-06-14  IESLBzqUCLdSzSqm0eCSxQ      4   \n",
       "3  _1QQZuf4zZOyFCvXc0o6Vg  2010-05-27  G-WvGaISbqqaMHlNnByodA      5   \n",
       "4  6ozycU1RpktNG2-1BroVtw  2012-01-05  1uJFq2r5QfJG_6ExMRCaGw      5   \n",
       "\n",
       "                                                text    type  \\\n",
       "0  My wife took me here on my birthday for breakf...  review   \n",
       "1  I have no idea why some people give bad review...  review   \n",
       "2  love the gyro plate. Rice is so good and I als...  review   \n",
       "3  Rosie, Dakota, and I LOVE Chaparral Dog Park!!...  review   \n",
       "4  General Manager Scott Petello is a good egg!!!...  review   \n",
       "\n",
       "                  user_id  cool  useful  funny  \n",
       "0  rLtl8ZkDX5vH5nAx9C3q5Q     2       5      0  \n",
       "1  0a2KyEL0d3Yb1V6aivbIuQ     0       0      0  \n",
       "2  0hT2KtfLiobPvh6cDC8JQg     0       1      0  \n",
       "3  uZetl9T0NcROGOyFfughhg     1       2      0  \n",
       "4  vYmM4KTsC8ZfQBg-j5MWkw     0       0      0  "
      ]
     },
     "execution_count": 5,
     "metadata": {},
     "output_type": "execute_result"
    }
   ],
   "source": [
    "df.head()"
   ]
  },
  {
   "cell_type": "markdown",
   "id": "0b426f11",
   "metadata": {},
   "source": [
    "### Metin İşleme"
   ]
  },
  {
   "cell_type": "code",
   "execution_count": 6,
   "id": "863afd26",
   "metadata": {},
   "outputs": [],
   "source": [
    "def text_processing(df_txt):\n",
    "    '''\n",
    "    Gönderilen veri setinin sütunu\n",
    "    \n",
    "    '''\n",
    "    df_txt=df_txt.str.lower()\n",
    "    df_txt=df_txt.str.replace('[^\\w\\s]','',regex=True) #vesiyon güncellenmiş\n",
    "    df_txt = df_txt.str.replace('\\n|\\t|\\r|\\d+', '', regex=True) # kaçış karakterleri ve rakamları kaldır\n",
    "    return df_txt"
   ]
  },
  {
   "cell_type": "code",
   "execution_count": 7,
   "id": "67541b09",
   "metadata": {},
   "outputs": [],
   "source": [
    "df['text']=text_processing(df['text'])"
   ]
  },
  {
   "cell_type": "code",
   "execution_count": 8,
   "id": "fee178bb",
   "metadata": {},
   "outputs": [
    {
     "data": {
      "text/plain": [
       "0       my wife took me here on my birthday for breakf...\n",
       "1       i have no idea why some people give bad review...\n",
       "2       love the gyro plate rice is so good and i also...\n",
       "3       rosie dakota and i love chaparral dog park its...\n",
       "4       general manager scott petello is a good egg no...\n",
       "                              ...                        \n",
       "9995    first visithad lunch here today  used my group...\n",
       "9996    should be called house of deliciousnessi could...\n",
       "9997    i recently visited olive and ivy for business ...\n",
       "9998    my nephew just moved to scottsdale recently so...\n",
       "9999     locations all  star average i think arizona r...\n",
       "Name: text, Length: 10000, dtype: object"
      ]
     },
     "execution_count": 8,
     "metadata": {},
     "output_type": "execute_result"
    }
   ],
   "source": [
    "df['text']"
   ]
  },
  {
   "cell_type": "code",
   "execution_count": 9,
   "id": "a06fe4f0",
   "metadata": {},
   "outputs": [],
   "source": [
    "df2=df[(df['stars']==1) | (df['stars']==5) ]"
   ]
  },
  {
   "cell_type": "code",
   "execution_count": 10,
   "id": "2c5d6f64",
   "metadata": {},
   "outputs": [
    {
     "data": {
      "text/html": [
       "<div>\n",
       "<style scoped>\n",
       "    .dataframe tbody tr th:only-of-type {\n",
       "        vertical-align: middle;\n",
       "    }\n",
       "\n",
       "    .dataframe tbody tr th {\n",
       "        vertical-align: top;\n",
       "    }\n",
       "\n",
       "    .dataframe thead th {\n",
       "        text-align: right;\n",
       "    }\n",
       "</style>\n",
       "<table border=\"1\" class=\"dataframe\">\n",
       "  <thead>\n",
       "    <tr style=\"text-align: right;\">\n",
       "      <th></th>\n",
       "      <th>business_id</th>\n",
       "      <th>date</th>\n",
       "      <th>review_id</th>\n",
       "      <th>stars</th>\n",
       "      <th>text</th>\n",
       "      <th>type</th>\n",
       "      <th>user_id</th>\n",
       "      <th>cool</th>\n",
       "      <th>useful</th>\n",
       "      <th>funny</th>\n",
       "    </tr>\n",
       "  </thead>\n",
       "  <tbody>\n",
       "    <tr>\n",
       "      <th>0</th>\n",
       "      <td>9yKzy9PApeiPPOUJEtnvkg</td>\n",
       "      <td>2011-01-26</td>\n",
       "      <td>fWKvX83p0-ka4JS3dc6E5A</td>\n",
       "      <td>5</td>\n",
       "      <td>my wife took me here on my birthday for breakf...</td>\n",
       "      <td>review</td>\n",
       "      <td>rLtl8ZkDX5vH5nAx9C3q5Q</td>\n",
       "      <td>2</td>\n",
       "      <td>5</td>\n",
       "      <td>0</td>\n",
       "    </tr>\n",
       "    <tr>\n",
       "      <th>1</th>\n",
       "      <td>ZRJwVLyzEJq1VAihDhYiow</td>\n",
       "      <td>2011-07-27</td>\n",
       "      <td>IjZ33sJrzXqU-0X6U8NwyA</td>\n",
       "      <td>5</td>\n",
       "      <td>i have no idea why some people give bad review...</td>\n",
       "      <td>review</td>\n",
       "      <td>0a2KyEL0d3Yb1V6aivbIuQ</td>\n",
       "      <td>0</td>\n",
       "      <td>0</td>\n",
       "      <td>0</td>\n",
       "    </tr>\n",
       "    <tr>\n",
       "      <th>3</th>\n",
       "      <td>_1QQZuf4zZOyFCvXc0o6Vg</td>\n",
       "      <td>2010-05-27</td>\n",
       "      <td>G-WvGaISbqqaMHlNnByodA</td>\n",
       "      <td>5</td>\n",
       "      <td>rosie dakota and i love chaparral dog park its...</td>\n",
       "      <td>review</td>\n",
       "      <td>uZetl9T0NcROGOyFfughhg</td>\n",
       "      <td>1</td>\n",
       "      <td>2</td>\n",
       "      <td>0</td>\n",
       "    </tr>\n",
       "    <tr>\n",
       "      <th>4</th>\n",
       "      <td>6ozycU1RpktNG2-1BroVtw</td>\n",
       "      <td>2012-01-05</td>\n",
       "      <td>1uJFq2r5QfJG_6ExMRCaGw</td>\n",
       "      <td>5</td>\n",
       "      <td>general manager scott petello is a good egg no...</td>\n",
       "      <td>review</td>\n",
       "      <td>vYmM4KTsC8ZfQBg-j5MWkw</td>\n",
       "      <td>0</td>\n",
       "      <td>0</td>\n",
       "      <td>0</td>\n",
       "    </tr>\n",
       "    <tr>\n",
       "      <th>6</th>\n",
       "      <td>zp713qNhx8d9KCJJnrw1xA</td>\n",
       "      <td>2010-02-12</td>\n",
       "      <td>riFQ3vxNpP4rWLk_CSri2A</td>\n",
       "      <td>5</td>\n",
       "      <td>drop what youre doing and drive here after i a...</td>\n",
       "      <td>review</td>\n",
       "      <td>wFweIWhv2fREZV_dYkz_1g</td>\n",
       "      <td>7</td>\n",
       "      <td>7</td>\n",
       "      <td>4</td>\n",
       "    </tr>\n",
       "  </tbody>\n",
       "</table>\n",
       "</div>"
      ],
      "text/plain": [
       "              business_id        date               review_id  stars  \\\n",
       "0  9yKzy9PApeiPPOUJEtnvkg  2011-01-26  fWKvX83p0-ka4JS3dc6E5A      5   \n",
       "1  ZRJwVLyzEJq1VAihDhYiow  2011-07-27  IjZ33sJrzXqU-0X6U8NwyA      5   \n",
       "3  _1QQZuf4zZOyFCvXc0o6Vg  2010-05-27  G-WvGaISbqqaMHlNnByodA      5   \n",
       "4  6ozycU1RpktNG2-1BroVtw  2012-01-05  1uJFq2r5QfJG_6ExMRCaGw      5   \n",
       "6  zp713qNhx8d9KCJJnrw1xA  2010-02-12  riFQ3vxNpP4rWLk_CSri2A      5   \n",
       "\n",
       "                                                text    type  \\\n",
       "0  my wife took me here on my birthday for breakf...  review   \n",
       "1  i have no idea why some people give bad review...  review   \n",
       "3  rosie dakota and i love chaparral dog park its...  review   \n",
       "4  general manager scott petello is a good egg no...  review   \n",
       "6  drop what youre doing and drive here after i a...  review   \n",
       "\n",
       "                  user_id  cool  useful  funny  \n",
       "0  rLtl8ZkDX5vH5nAx9C3q5Q     2       5      0  \n",
       "1  0a2KyEL0d3Yb1V6aivbIuQ     0       0      0  \n",
       "3  uZetl9T0NcROGOyFfughhg     1       2      0  \n",
       "4  vYmM4KTsC8ZfQBg-j5MWkw     0       0      0  \n",
       "6  wFweIWhv2fREZV_dYkz_1g     7       7      4  "
      ]
     },
     "execution_count": 10,
     "metadata": {},
     "output_type": "execute_result"
    }
   ],
   "source": [
    "df2.head()"
   ]
  },
  {
   "cell_type": "code",
   "execution_count": 11,
   "id": "837b82c9",
   "metadata": {},
   "outputs": [
    {
     "data": {
      "text/plain": [
       "(4086, 10)"
      ]
     },
     "execution_count": 11,
     "metadata": {},
     "output_type": "execute_result"
    }
   ],
   "source": [
    "df2.shape"
   ]
  },
  {
   "cell_type": "code",
   "execution_count": 12,
   "id": "c813cf1b",
   "metadata": {},
   "outputs": [],
   "source": [
    "X=df2['text']\n",
    "y=df2['stars']"
   ]
  },
  {
   "cell_type": "code",
   "execution_count": 13,
   "id": "08b934a3",
   "metadata": {},
   "outputs": [
    {
     "data": {
      "text/plain": [
       "(0       my wife took me here on my birthday for breakf...\n",
       " 1       i have no idea why some people give bad review...\n",
       " 3       rosie dakota and i love chaparral dog park its...\n",
       " 4       general manager scott petello is a good egg no...\n",
       " 6       drop what youre doing and drive here after i a...\n",
       "                               ...                        \n",
       " 9990    yes i do rock the hipster joints  i dig this p...\n",
       " 9991    only  stars a few notes the folks that rated t...\n",
       " 9992    im not normally one to jump at reviewing a cha...\n",
       " 9994    lets seewhat is there not to like about surpri...\n",
       " 9999     locations all  star average i think arizona r...\n",
       " Name: text, Length: 4086, dtype: object,\n",
       " 0       5\n",
       " 1       5\n",
       " 3       5\n",
       " 4       5\n",
       " 6       5\n",
       "        ..\n",
       " 9990    5\n",
       " 9991    5\n",
       " 9992    5\n",
       " 9994    5\n",
       " 9999    5\n",
       " Name: stars, Length: 4086, dtype: int64)"
      ]
     },
     "execution_count": 13,
     "metadata": {},
     "output_type": "execute_result"
    }
   ],
   "source": [
    "X,y"
   ]
  },
  {
   "cell_type": "code",
   "execution_count": 14,
   "id": "6add0eb3",
   "metadata": {},
   "outputs": [],
   "source": [
    "vect=CountVectorizer()"
   ]
  },
  {
   "cell_type": "code",
   "execution_count": 15,
   "id": "237d2a93",
   "metadata": {},
   "outputs": [],
   "source": [
    "X=vect.fit_transform(X)"
   ]
  },
  {
   "cell_type": "code",
   "execution_count": 16,
   "id": "fed18052",
   "metadata": {},
   "outputs": [],
   "source": [
    "X=pd.DataFrame(X.toarray(),columns=vect.get_feature_names_out())"
   ]
  },
  {
   "cell_type": "markdown",
   "id": "69346912",
   "metadata": {},
   "source": [
    "### Model"
   ]
  },
  {
   "cell_type": "code",
   "execution_count": 17,
   "id": "68753f17",
   "metadata": {},
   "outputs": [],
   "source": [
    "from sklearn.ensemble import RandomForestClassifier\n",
    "from sklearn.naive_bayes import GaussianNB\n",
    "from sklearn.linear_model import LogisticRegression\n",
    "from sklearn.svm import SVC\n",
    "from sklearn.neighbors import KNeighborsClassifier\n",
    "from sklearn.tree import DecisionTreeClassifier\n",
    "from sklearn.ensemble import GradientBoostingClassifier\n",
    "#from sklearn.ensemble import AdaBoostClassifier\n",
    "from sklearn.ensemble import ExtraTreesClassifier\n",
    "from sklearn.ensemble import BaggingClassifier\n",
    "from sklearn.ensemble import VotingClassifier\n",
    "from sklearn.naive_bayes import BernoulliNB\n",
    "from sklearn.model_selection import cross_val_score\n",
    "#accuaracy\n",
    "from sklearn.metrics import accuracy_score, confusion_matrix, classification_report\n",
    "from sklearn.model_selection import train_test_split"
   ]
  },
  {
   "cell_type": "code",
   "execution_count": 20,
   "id": "3ec4e740",
   "metadata": {},
   "outputs": [],
   "source": [
    "def model_classification(X,y):\n",
    "    '''\n",
    "    X: independent variable\n",
    "    y: dependent variable\n",
    "    return best model and its accuracy\n",
    "    '''\n",
    "    x_train,x_test,y_train,y_test=train_test_split(X,y,test_size=0.2,random_state=41)\n",
    "    models = [GaussianNB(),BernoulliNB(),LogisticRegression(),RandomForestClassifier(), \n",
    "              GradientBoostingClassifier()]\n",
    "    results=[]\n",
    "    for model in models:\n",
    "        model.fit(x_train,y_train)\n",
    "        model_predict=model.predict(x_test)\n",
    "        print(\"Model: \",model)\n",
    "        print(\"Model Accuracy: \",accuracy_score(model_predict,y_test))\n",
    "        print(\"Model Confusion Matrix: \",confusion_matrix(model_predict,y_test),\"\\n\")\n",
    "        print(\"Model Classification Report: \",classification_report(model_predict,y_test))\n",
    "        print(\"-\"*50)\n",
    "        results.append(accuracy_score(model_predict,y_test))\n",
    "    #best model\n",
    "    best_model=models[results.index(max(results))]\n",
    "    print(\"Best Model: \",best_model)\n",
    "    print(\"Best Model Accuracy: \",max(results))\n",
    "    models=pd.DataFrame({\n",
    "        'Model':['GaussianNB','BernoulliNB','LogisticRegression','RandomForestClassifier', 'GradientBoostingClassifier'],\n",
    "        'Score':results})\n",
    "    print(models.sort_values(by='Score', ascending=False, ignore_index=True))\n",
    "    return best_model,max(results), confusion_matrix(model_predict,y_test)"
   ]
  },
  {
   "cell_type": "code",
   "execution_count": 21,
   "id": "3f1fbd11",
   "metadata": {
    "scrolled": true
   },
   "outputs": [
    {
     "name": "stdout",
     "output_type": "stream",
     "text": [
      "Model:  GaussianNB()\n",
      "Model Accuracy:  0.7585644371941273\n",
      "Model Confusion Matrix:  [[ 80 143]\n",
      " [153 850]] \n",
      "\n",
      "Model Classification Report:                precision    recall  f1-score   support\n",
      "\n",
      "           1       0.34      0.36      0.35       223\n",
      "           5       0.86      0.85      0.85      1003\n",
      "\n",
      "    accuracy                           0.76      1226\n",
      "   macro avg       0.60      0.60      0.60      1226\n",
      "weighted avg       0.76      0.76      0.76      1226\n",
      "\n",
      "--------------------------------------------------\n",
      "Model:  BernoulliNB()\n",
      "Model Accuracy:  0.8213703099510603\n",
      "Model Confusion Matrix:  [[ 76  62]\n",
      " [157 931]] \n",
      "\n",
      "Model Classification Report:                precision    recall  f1-score   support\n",
      "\n",
      "           1       0.33      0.55      0.41       138\n",
      "           5       0.94      0.86      0.89      1088\n",
      "\n",
      "    accuracy                           0.82      1226\n",
      "   macro avg       0.63      0.70      0.65      1226\n",
      "weighted avg       0.87      0.82      0.84      1226\n",
      "\n",
      "--------------------------------------------------\n",
      "Model:  LogisticRegression()\n",
      "Model Accuracy:  0.9257748776508973\n",
      "Model Confusion Matrix:  [[170  28]\n",
      " [ 63 965]] \n",
      "\n",
      "Model Classification Report:                precision    recall  f1-score   support\n",
      "\n",
      "           1       0.73      0.86      0.79       198\n",
      "           5       0.97      0.94      0.95      1028\n",
      "\n",
      "    accuracy                           0.93      1226\n",
      "   macro avg       0.85      0.90      0.87      1226\n",
      "weighted avg       0.93      0.93      0.93      1226\n",
      "\n",
      "--------------------------------------------------\n",
      "Model:  RandomForestClassifier()\n",
      "Model Accuracy:  0.8360522022838499\n",
      "Model Confusion Matrix:  [[ 35   3]\n",
      " [198 990]] \n",
      "\n",
      "Model Classification Report:                precision    recall  f1-score   support\n",
      "\n",
      "           1       0.15      0.92      0.26        38\n",
      "           5       1.00      0.83      0.91      1188\n",
      "\n",
      "    accuracy                           0.84      1226\n",
      "   macro avg       0.57      0.88      0.58      1226\n",
      "weighted avg       0.97      0.84      0.89      1226\n",
      "\n",
      "--------------------------------------------------\n",
      "Model:  GradientBoostingClassifier()\n",
      "Model Accuracy:  0.8825448613376835\n",
      "Model Confusion Matrix:  [[102  13]\n",
      " [131 980]] \n",
      "\n",
      "Model Classification Report:                precision    recall  f1-score   support\n",
      "\n",
      "           1       0.44      0.89      0.59       115\n",
      "           5       0.99      0.88      0.93      1111\n",
      "\n",
      "    accuracy                           0.88      1226\n",
      "   macro avg       0.71      0.88      0.76      1226\n",
      "weighted avg       0.94      0.88      0.90      1226\n",
      "\n",
      "--------------------------------------------------\n",
      "Best Model:  LogisticRegression()\n",
      "Best Model Accuracy:  0.9257748776508973\n",
      "                        Model     Score\n",
      "0          LogisticRegression  0.925775\n",
      "1  GradientBoostingClassifier  0.882545\n",
      "2      RandomForestClassifier  0.836052\n",
      "3                 BernoulliNB  0.821370\n",
      "4                  GaussianNB  0.758564\n"
     ]
    },
    {
     "data": {
      "text/plain": [
       "(LogisticRegression(),\n",
       " 0.9257748776508973,\n",
       " array([[102,  13],\n",
       "        [131, 980]], dtype=int64))"
      ]
     },
     "execution_count": 21,
     "metadata": {},
     "output_type": "execute_result"
    }
   ],
   "source": [
    "model_classification(X,y)"
   ]
  },
  {
   "cell_type": "code",
   "execution_count": null,
   "id": "1680301e",
   "metadata": {},
   "outputs": [],
   "source": []
  }
 ],
 "metadata": {
  "kernelspec": {
   "display_name": "Python 3 (ipykernel)",
   "language": "python",
   "name": "python3"
  },
  "language_info": {
   "codemirror_mode": {
    "name": "ipython",
    "version": 3
   },
   "file_extension": ".py",
   "mimetype": "text/x-python",
   "name": "python",
   "nbconvert_exporter": "python",
   "pygments_lexer": "ipython3",
   "version": "3.10.6"
  }
 },
 "nbformat": 4,
 "nbformat_minor": 5
}

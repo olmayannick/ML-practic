{
 "cells": [
  {
   "cell_type": "code",
   "execution_count": 2,
   "metadata": {},
   "outputs": [],
   "source": [
    "from gtts import gTTS"
   ]
  },
  {
   "cell_type": "code",
   "execution_count": 3,
   "metadata": {},
   "outputs": [],
   "source": [
    "text=\"Hello, I am a text to speech bot. I can convert text to speech. I am created by Mr. Ankit. I am a python program. I am a open source program. I am a free program\"\n",
    "\n",
    "kayit=gTTS(text=text, lang=\"tr\", slow=False)\n",
    "kayit.save(\"text.mp3\")\n"
   ]
  },
  {
   "cell_type": "code",
   "execution_count": 4,
   "metadata": {},
   "outputs": [
    {
     "name": "stdout",
     "output_type": "stream",
     "text": [
      "Boşluk, bir şeyin yokluğudur. Bir sayfanın beyaz boşluğu, bir odadaki sessizlik veya bir kalpteki sevginin eksikliği olabilir. Boşluk, varlığın zıttı olarak görülebilir, ancak aynı zamanda potansiyelin ve olasılığın da sembolüdür.\n",
      "\n",
      "\n",
      "\n",
      "Boşluk, birçok farklı şekilde yorumlanabilir. Bazı insanlar için korkutucu ve rahatsız edici olabilir. Diğerleri için ise huzur ve dinginlik kaynağı olabilir. Boşluk, yaratıcılığın ve ilhamın da kaynağı olabilir.\n",
      "\n",
      "\n",
      "\n",
      "Boşluk, kaçınılmaz bir şeydir. Hepimiz hayatımızda bir noktada boşlukla karşılaşırız. Bir işimizi kaybettiğimizde, bir ilişkimiz sona erdiğinde veya sevdiğimiz birini kaybettiğimizde boşluk hissederiz.\n",
      "\n",
      "\n",
      "\n",
      "Boşlukla başa çıkmanın birçok farklı yolu vardır. Bazı insanlar onu görmezden gelmeye çalışır. Diğerleri ise onu doldurmaya çalışır. Boşluğu doldurmak için yeni bir iş bulabilir, yeni bir ilişkiye başlayabilir veya yeni bir hobi edinebiliriz.\n",
      "Boşluk, bir şeyin yokluğudur. Bir sayfanın beyaz boşluğu, bir odadaki sessizlik veya bir kalpteki sevginin eksikliği olabilir. Boşluk, varlığın zıttı olarak görülebilir, ancak aynı zamanda potansiyelin ve olasılığın da sembolüdür.\n",
      "\n",
      "Boşluk, birçok farklı şekilde yorumlanabilir. Bazı insanlar için korkutucu ve rahatsız edici olabilir. Diğerleri için ise huzur ve dinginlik kaynağı olabilir. Boşluk, yaratıcılığın ve ilhamın da kaynağı olabilir.\n",
      "\n",
      "Boşluk, kaçınılmaz bir şeydir. Hepimiz hayatımızda bir noktada boşlukla karşılaşırız. Bir işimizi kaybettiğimizde, bir ilişkimiz sona erdiğinde veya sevdiğimiz birini kaybettiğimizde boşluk hissederiz.\n",
      "\n",
      "Boşlukla başa çıkmanın birçok farklı yolu vardır. Bazı insanlar onu görmezden gelmeye çalışır. Diğerleri ise onu doldurmaya çalışır. Boşluğu doldurmak için yeni bir iş bulabilir, yeni bir ilişkiye başlayabilir veya yeni bir hobi edinebiliriz.\n"
     ]
    }
   ],
   "source": [
    "str=\"\"\n",
    "with open(\"bos.txt\", \"r\", encoding=\"utf-8\") as f:\n",
    "   for line in f:\n",
    "       print(line)\n",
    "       str+=line\n",
    "print(str)"
   ]
  },
  {
   "cell_type": "code",
   "execution_count": 5,
   "metadata": {},
   "outputs": [],
   "source": [
    "import random\n",
    "def seslendir(text, seslendirme_aksani='tr'):\n",
    "    kayit=gTTS(text=text, lang=seslendirme_aksani, slow=False)\n",
    "    kayit.save(\"ses_tr.mp3\")\n",
    "\n",
    "seslendir(str, \"tr\")"
   ]
  },
  {
   "cell_type": "code",
   "execution_count": null,
   "metadata": {},
   "outputs": [],
   "source": []
  }
 ],
 "metadata": {
  "kernelspec": {
   "display_name": "Python 3",
   "language": "python",
   "name": "python3"
  },
  "language_info": {
   "codemirror_mode": {
    "name": "ipython",
    "version": 3
   },
   "file_extension": ".py",
   "mimetype": "text/x-python",
   "name": "python",
   "nbconvert_exporter": "python",
   "pygments_lexer": "ipython3",
   "version": "3.10.6"
  }
 },
 "nbformat": 4,
 "nbformat_minor": 2
}
